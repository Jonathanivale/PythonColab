{
  "cells": [
    {
      "cell_type": "code",
      "execution_count": null,
      "metadata": {
        "id": "vzHN4Bx_CeZu"
      },
      "outputs": [],
      "source": [
        "Crud\n",
        "Delete\n",
        "Read\n",
        "update\n"
      ]
    },
    {
      "cell_type": "code",
      "execution_count": null,
      "metadata": {
        "id": "f-krw_OhCpnN"
      },
      "outputs": [],
      "source": [
        "#instalar o mySQL\n",
        "!apt-get install mysql-server > /dev/null"
      ]
    },
    {
      "cell_type": "code",
      "execution_count": null,
      "metadata": {
        "colab": {
          "base_uri": "https://localhost:8080/"
        },
        "id": "3ygmgxv0DDSj",
        "outputId": "f29067d2-6c5a-450b-f72a-3f254aca75fa"
      },
      "outputs": [
        {
          "output_type": "stream",
          "name": "stdout",
          "text": [
            " * Starting MySQL database server mysqld\n",
            "No directory, logging in with HOME=/\n",
            "   ...done.\n"
          ]
        }
      ],
      "source": [
        "#iniciar o Serviço\n",
        "!service mysql start"
      ]
    },
    {
      "cell_type": "code",
      "execution_count": null,
      "metadata": {
        "id": "oK4ErgS4EKfG"
      },
      "outputs": [],
      "source": [
        "#alterar a senha do root\n",
        "!mysql -e \"ALTER USER 'root'@'localhost' IDENTIFIED WITH mysql_native_password BY '1234'\""
      ]
    },
    {
      "cell_type": "code",
      "execution_count": null,
      "metadata": {
        "id": "y_q5Hk2RDNkB"
      },
      "outputs": [],
      "source": [
        "!mysql -h localhost -u root -p"
      ]
    },
    {
      "cell_type": "code",
      "execution_count": null,
      "metadata": {
        "colab": {
          "base_uri": "https://localhost:8080/",
          "height": 70
        },
        "id": "uBRasgeOIeIx",
        "outputId": "ac281eef-5ee1-4fdc-9cb9-914bc7cc0a8e"
      },
      "outputs": [
        {
          "data": {
            "application/vnd.google.colaboratory.intrinsic+json": {
              "type": "string"
            },
            "text/plain": [
              "'\\nCREATE TABLE usuarios(id_user INT NOT NULL AUTO_INCREMENT,\\n                      email VARCHAR(100) NULL,\\n                      senha VARCHAR(45) NULL,\\n                      nome VARCHAR(200)  NULL,\\n                      idade INT(2)       NULL,\\n                      PRIMARY KEY(id_user));\\n'"
            ]
          },
          "execution_count": 2,
          "metadata": {},
          "output_type": "execute_result"
        }
      ],
      "source": [
        "#show databases; mostra todas as base de dados\n",
        "#create database aula; esse comando serve para criar uma base de dados\n",
        "#use aula; esse comando serve para conectar ao banco de dados\n",
        "#show tables; esse comando mostra todas as tabelas do banco de dados\n",
        "'''\n",
        "CREATE TABLE usuarios(id_user INT NOT NULL AUTO_INCREMENT,\n",
        "                      email VARCHAR(100) NULL,\n",
        "                      senha VARCHAR(45) NULL,\n",
        "                      nome VARCHAR(200)  NULL,\n",
        "                      idade INT(2)       NULL,\n",
        "                      PRIMARY KEY(id_user));\n",
        "'''"
      ]
    },
    {
      "cell_type": "code",
      "execution_count": null,
      "metadata": {
        "colab": {
          "base_uri": "https://localhost:8080/"
        },
        "id": "3jztvAobWNRF",
        "outputId": "34506060-4ba3-41dc-d0b9-91d98e2fb7c8"
      },
      "outputs": [
        {
          "output_type": "stream",
          "name": "stdout",
          "text": [
            "Looking in indexes: https://pypi.org/simple, https://us-python.pkg.dev/colab-wheels/public/simple/\n",
            "Collecting mysql-connector-python\n",
            "  Downloading mysql_connector_python-8.0.30-cp37-cp37m-manylinux1_x86_64.whl (25.4 MB)\n",
            "\u001b[K     |████████████████████████████████| 25.4 MB 1.5 MB/s \n",
            "\u001b[?25hRequirement already satisfied: protobuf<=3.20.1,>=3.11.0 in /usr/local/lib/python3.7/dist-packages (from mysql-connector-python) (3.17.3)\n",
            "Requirement already satisfied: six>=1.9 in /usr/local/lib/python3.7/dist-packages (from protobuf<=3.20.1,>=3.11.0->mysql-connector-python) (1.15.0)\n",
            "Installing collected packages: mysql-connector-python\n",
            "Successfully installed mysql-connector-python-8.0.30\n"
          ]
        }
      ],
      "source": [
        "#instalaçao do pacote de conexao ao mysql\n",
        "!pip install mysql-connector-python"
      ]
    },
    {
      "cell_type": "code",
      "execution_count": null,
      "metadata": {
        "id": "4uH4PdAxWXz9"
      },
      "outputs": [],
      "source": [
        "#importaçao do pacote\n",
        "import mysql.connector\n",
        "from mysql.connector import Error"
      ]
    },
    {
      "cell_type": "code",
      "execution_count": null,
      "metadata": {
        "id": "CBjGflMhWuVU"
      },
      "outputs": [],
      "source": [
        "#Criar o objeto de conexao\n",
        "conexao = mysql.connector.connect(host='localhost',database='aula',user ='root', password = '1234')"
      ]
    },
    {
      "cell_type": "code",
      "execution_count": null,
      "metadata": {
        "colab": {
          "base_uri": "https://localhost:8080/"
        },
        "id": "NSl-PJqwXpxI",
        "outputId": "c7518950-84ae-431b-9eaa-961253b99ea8"
      },
      "outputs": [
        {
          "output_type": "stream",
          "name": "stdout",
          "text": [
            "conectado ao servidor mysql versão 5.7.39-0ubuntu0.18.04.2\n"
          ]
        }
      ],
      "source": [
        "#testar se o banco esta conectado\n",
        "if conexao.is_connected():\n",
        "  db_info = conexao.get_server_info()\n",
        "  print(\"conectado ao servidor mysql versão\" , db_info)\n",
        "  cursor = conexao.cursor()"
      ]
    },
    {
      "cell_type": "code",
      "execution_count": null,
      "metadata": {
        "colab": {
          "base_uri": "https://localhost:8080/"
        },
        "id": "HcqQK-MTYXul",
        "outputId": "79d6aec7-bf1c-4b15-dc20-a6d4453bef2f"
      },
      "outputs": [
        {
          "output_type": "stream",
          "name": "stdout",
          "text": [
            "conexao mysql foi encerrada\n"
          ]
        }
      ],
      "source": [
        "#testa a conexao se estiver ativa, desconecta do banco\n",
        "if conexao.is_connected():\n",
        "  cursor.close()\n",
        "  conexao.close()\n",
        "  print(\"conexao mysql foi encerrada\")"
      ]
    },
    {
      "cell_type": "code",
      "execution_count": null,
      "metadata": {
        "id": "L1xDi6N2Y0gS"
      },
      "outputs": [],
      "source": [
        "#create(insert)\n",
        "email = \"jonathancos3@hotmail.com\"\n",
        "senha = \"1234\"\n",
        "nome = \"Jonathan da Costa Ivale\"\n",
        "idade = \"22\"\n",
        "comando = f\"INSERT INTO usuarios (email,senha,nome,idade) VALUES('{email}','{senha}','{nome}',{idade})\"\n",
        "cursor.execute(comando)\n",
        "conexao.commit()"
      ]
    },
    {
      "cell_type": "code",
      "execution_count": null,
      "metadata": {
        "id": "FhiTvModb3Zm"
      },
      "outputs": [],
      "source": [
        "#create(insert)\n",
        "#segundo jeito de inserir\n",
        "email = \"jonathancos0@hotmail.com\"\n",
        "senha = \"1234\"\n",
        "nome = \"Jonathan da C Ivale\"\n",
        "idade = \"20\"\n",
        "comando = \"INSERT INTO usuarios (email,senha,nome,idade) VALUES('{}','{}','{}',{})\".format(email,senha,nome,idade)\n",
        "cursor.execute(comando)\n",
        "conexao.commit()"
      ]
    },
    {
      "cell_type": "code",
      "execution_count": null,
      "metadata": {
        "colab": {
          "base_uri": "https://localhost:8080/"
        },
        "id": "5ZktmPK2cMYC",
        "outputId": "dd9a2789-01fa-449f-f477-03c2872219d8"
      },
      "outputs": [
        {
          "output_type": "stream",
          "name": "stdout",
          "text": [
            "(1, 'jonathancos3@hotmail.com', '1234', 'Jonathan da Costa Ivale', 22)\n",
            "(2, 'jonathancos0@hotmail.com', '1234', 'Jonathan da C Ivale', 20)\n"
          ]
        }
      ],
      "source": [
        "#select\n",
        "comando = \"SELECT * FROM usuarios\"\n",
        "cursor.execute(comando)\n",
        "linhas = cursor.fetchall()\n",
        "for linha in linhas:\n",
        "  print(linha)"
      ]
    },
    {
      "cell_type": "code",
      "execution_count": null,
      "metadata": {
        "colab": {
          "base_uri": "https://localhost:8080/"
        },
        "id": "xWMMzg-Egc8r",
        "outputId": "58c4b84e-3966-45eb-f1e9-76398744b2dc"
      },
      "outputs": [
        {
          "output_type": "stream",
          "name": "stdout",
          "text": [
            "(1, 'jonathancos3@hotmail.com', '1234', ' jonathan costa ivale', 22)\n"
          ]
        }
      ],
      "source": [
        "#select de apenas 1 registro\n",
        "id = 1\n",
        "comando = \"SELECT * FROM usuarios WHERE id_user = {} \".format(id)\n",
        "cursor.execute(comando)\n",
        "linha = cursor.fetchone()\n",
        "print(linha)"
      ]
    },
    {
      "cell_type": "code",
      "execution_count": null,
      "metadata": {
        "id": "rveMqZHLg4Hg"
      },
      "outputs": [],
      "source": [
        "#update\n",
        "email = \"jonathancos3@hotmail.com\"\n",
        "nome =  \" jonathan costa ivale\"\n",
        "id = 1\n",
        "comando = \"UPDATE usuarios SET email = '{}',nome = '{}' Where id_user = {}\".format(email,nome,id)\n",
        "cursor.execute(comando)\n",
        "conexao.commit()"
      ]
    },
    {
      "cell_type": "code",
      "execution_count": null,
      "metadata": {
        "colab": {
          "base_uri": "https://localhost:8080/"
        },
        "id": "uLWGnUfdh7hw",
        "outputId": "c0de6eeb-502a-4b14-8743-e19e77bb6d45"
      },
      "outputs": [
        {
          "output_type": "execute_result",
          "data": {
            "text/plain": [
              "<bound method CMySQLConnection.commit of <mysql.connector.connection_cext.CMySQLConnection object at 0x7f84e10d0d10>>"
            ]
          },
          "metadata": {},
          "execution_count": 18
        }
      ],
      "source": [
        "#Delete\n",
        "id = 2\n",
        "comando = \"DELETE FROM usuarios where id_user = {}\".format(id)\n",
        "cursor.execute(comando)\n",
        "conexao.commit"
      ]
    },
    {
      "cell_type": "code",
      "execution_count": null,
      "metadata": {
        "id": "b32ZepgALdFW"
      },
      "outputs": [],
      "source": [
        "class Crud(object):\n",
        "  __host = 'localhost'\n",
        "  __database = 'aula'\n",
        "  __user = \"root\"\n",
        "  __password = \"1234\"\n",
        "  \"inclusão do host,database,user,password\"\n",
        "\n",
        "  def __init__(self):\n",
        "    '''Método construtor'''\n",
        "  def conectarBanco(self):\n",
        "    '''Metodo de conexão do banco de dados'''\n",
        "    try:\n",
        "      self.conexao = mysql.connector.connect(host= self.__host, database=self.__database, user=self.__user, password=self.__password)\n",
        "    except Error as e:\n",
        "      print(\"Problemas na conexão com o banco de dados \", e)\n",
        "    else:\n",
        "      if self.conexao.is_connected():\n",
        "        db_info = self.conexao.get_server_info()\n",
        "        print(\"Conectado ao servidor MySQL Versão \", db_info)\n",
        "        self.cursor = self.conexao.cursor()\n",
        "  def teste(self):\n",
        "    if hasattr(self,'conexao'):\n",
        "      print(\"Existe conexao\")\n",
        "  def DesconectarBanco(self):\n",
        "    if self.conexao.is_connected():\n",
        "      self.cursor.close()\n",
        "      self.conexao.close()\n",
        "      print(\"conexao mysql foi encerrada\")\n",
        "      \"DESCONECTAR O BANCO\"\n",
        "  def inserir(self,email,senha,nome,idade):\n",
        "    comando = f\"INSERT INTO usuarios (email,senha,nome,idade) VALUES('{email}','{senha}','{nome}',{idade})\"\n",
        "    self.cursor.execute(comando)\n",
        "    self.conexao.commit()\n",
        "    \"INSERIR EMAIL,SENHA,NOME,IDADE\"\n",
        "  def selectudo (self):\n",
        "    comando = \"SELECT * FROM usuarios\"\n",
        "    self.cursor.execute(comando)\n",
        "    linhas = self.cursor.fetchall()\n",
        "    return linhas\n",
        "  def selecUm(self,id):\n",
        "    comando = \"SELECT * FROM usuarios WHERE id_user = {} \".format(id)\n",
        "    self.cursor.execute(comando)\n",
        "    linha = self.cursor.fetchone()\n",
        "    return linha\n",
        "  def alterar(self,email,senha,nome,idade):\n",
        "    comando = \"SELECT * FROM usuarios WHERE email = '{}' and senha = '{}' and nome = '{}' and idade = {}\".format(email,senha,nome,idade)\n",
        "    print(comando)\n",
        "    self.cursor.execute(comando)\n",
        "    linhas = self.cursor.fetchall()\n",
        "    print(linhas[0][0])\n",
        "    if linhas[0][0] > 1:\n",
        "      useremail = input(\"Digite seu email: \")\n",
        "      usersenha = input(\"Digite sua senha: \")\n",
        "      usernome = input(\"Digite seu nome: \")\n",
        "      useridade = input(\"Digite sua idade: \")\n",
        "      comando = \"UPDATE usuarios SET email = '{}', senha = '{}', nome = '{}' , idade = '{}' WHERE id_user = {}\".format(useremail,usersenha,usernome,useridade,linhas[0][0])\n",
        "      self.cursor.execute(comando)\n",
        "      self.conexao.commit()\n",
        "  def deletar(self,id):\n",
        "    comando = \"DELETE FROM usuarios where id_user = {}\".format(id)\n",
        "    self.cursor.execute(comando)\n",
        "    self.conexao.commit()"
      ]
    },
    {
      "cell_type": "code",
      "execution_count": null,
      "metadata": {
        "id": "a5V7wdzIPQhF"
      },
      "outputs": [],
      "source": [
        "db = Crud()"
      ]
    },
    {
      "cell_type": "code",
      "execution_count": null,
      "metadata": {
        "colab": {
          "base_uri": "https://localhost:8080/"
        },
        "id": "VW4kA_fCO-Hm",
        "outputId": "c72ac484-8cdc-43c3-f107-9b439e5ff251"
      },
      "outputs": [
        {
          "output_type": "stream",
          "name": "stdout",
          "text": [
            "Conectado ao servidor MySQL Versão  5.7.39-0ubuntu0.18.04.2\n"
          ]
        }
      ],
      "source": [
        "db.conectarBanco()"
      ]
    },
    {
      "cell_type": "code",
      "execution_count": null,
      "metadata": {
        "id": "u_wL7YWXVaZ5"
      },
      "outputs": [],
      "source": [
        "db.DesconectarBanco()"
      ]
    },
    {
      "cell_type": "code",
      "execution_count": null,
      "metadata": {
        "id": "2Z5gSgATix1T"
      },
      "outputs": [],
      "source": [
        "db.inserir(\"jonathan@gmail.com\",\"bjp123\",\"jonathan\",50)"
      ]
    },
    {
      "cell_type": "code",
      "execution_count": null,
      "metadata": {
        "id": "dvyrChXSlbwe",
        "colab": {
          "base_uri": "https://localhost:8080/"
        },
        "outputId": "6394b59f-776d-4ea4-ff47-24d5d761085c"
      },
      "outputs": [
        {
          "name": "stdout",
          "output_type": "stream",
          "text": [
            "SELECT * FROM usuarios WHERE email = 'jonathan@gmail.com' and senha = 'bjp123' and nome = 'jonathan' and idade = 50\n",
            "3\n",
            "Digite seu email: xablau@gmail.com\n",
            "Digite sua senha: 1234\n",
            "Digite seu nome: Xablau\n",
            "Digite sua idade: 50\n"
          ]
        }
      ],
      "source": [
        "db.alterar(\"jonathan@gmail.com\",\"bjp123\",\"jonathan\",50)"
      ]
    },
    {
      "cell_type": "code",
      "execution_count": null,
      "metadata": {
        "colab": {
          "base_uri": "https://localhost:8080/"
        },
        "id": "YRxbC-mIsEzH",
        "outputId": "95d0ce01-abd2-4a54-cc66-70d74006cd62"
      },
      "outputs": [
        {
          "output_type": "stream",
          "name": "stdout",
          "text": [
            "[(2, 'jonathancos0@hotmail.com', '1234', 'Jonathan da C Ivale', 20), (3, 'xablau@gmail.com', '1234', 'Xablau', 50), (4, 'jonathan@gmail.com', 'bjp123', 'jonathan', 50), (5, 'jonathan@gmail.com', 'bjp123', 'jonathan', 50)]\n"
          ]
        }
      ],
      "source": [
        "selectudo = db.selectudo()\n",
        "print(teste)"
      ]
    },
    {
      "cell_type": "code",
      "source": [
        "selecUm = db.selecUm(2)\n",
        "print(teste2)"
      ],
      "metadata": {
        "colab": {
          "base_uri": "https://localhost:8080/"
        },
        "id": "5kELuizY093F",
        "outputId": "641d2c29-786b-41ca-c7f6-88aae191c4cb"
      },
      "execution_count": null,
      "outputs": [
        {
          "output_type": "stream",
          "name": "stdout",
          "text": [
            "(2, 'jonathancos0@hotmail.com', '1234', 'Jonathan da C Ivale', 20)\n"
          ]
        }
      ]
    },
    {
      "cell_type": "code",
      "source": [
        "db.deletar(1)"
      ],
      "metadata": {
        "id": "NVUbWP8zLrLn"
      },
      "execution_count": null,
      "outputs": []
    }
  ],
  "metadata": {
    "colab": {
      "toc_visible": true,
      "provenance": []
    },
    "kernelspec": {
      "display_name": "Python 3",
      "name": "python3"
    },
    "language_info": {
      "name": "python"
    }
  },
  "nbformat": 4,
  "nbformat_minor": 0
}